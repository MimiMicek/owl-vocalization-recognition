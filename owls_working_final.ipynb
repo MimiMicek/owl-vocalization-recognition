{
  "nbformat": 4,
  "nbformat_minor": 0,
  "metadata": {
    "kernelspec": {
      "display_name": "Python 3",
      "language": "python",
      "name": "python3"
    },
    "language_info": {
      "codemirror_mode": {
        "name": "ipython",
        "version": 3
      },
      "file_extension": ".py",
      "mimetype": "text/x-python",
      "name": "python",
      "nbconvert_exporter": "python",
      "pygments_lexer": "ipython3",
      "version": "3.8.5"
    },
    "colab": {
      "name": "owls_working_1.ipynb",
      "provenance": [],
      "collapsed_sections": []
    }
  },
  "cells": [
    {
      "cell_type": "code",
      "metadata": {
        "id": "LZ_HVH2cZcxN",
        "colab": {
          "base_uri": "https://localhost:8080/"
        },
        "outputId": "e3a5b0e8-7b1f-4254-bb9b-06113147369c"
      },
      "source": [
        "from google.colab import drive\n",
        "drive.mount('/content/drive')"
      ],
      "execution_count": 2,
      "outputs": [
        {
          "output_type": "stream",
          "text": [
            "Mounted at /content/drive\n"
          ],
          "name": "stdout"
        }
      ]
    },
    {
      "cell_type": "code",
      "metadata": {
        "id": "C_dCPXqbh39y"
      },
      "source": [
        "from tensorflow import keras\n",
        "from tensorflow.keras import layers, activations\n",
        "from keras_preprocessing.image import ImageDataGenerator\n",
        "from keras.layers import Dense, Activation, Flatten, Dropout, BatchNormalization\n",
        "from keras.layers import Conv2D, MaxPooling2D\n",
        "from keras import regularizers, optimizers\n",
        "import pandas as pd\n",
        "import numpy as np\n",
        "from keras.models import Sequential\n",
        "from tensorflow.keras import optimizers\n",
        "import matplotlib.pyplot as plt"
      ],
      "execution_count": 3,
      "outputs": []
    },
    {
      "cell_type": "code",
      "metadata": {
        "id": "Qz-KaAhZh394"
      },
      "source": [
        "# Open the .csv file with all labels\r\n",
        "df = pd.read_csv('/content/drive/MyDrive/Colab Notebooks/labels.csv')"
      ],
      "execution_count": 4,
      "outputs": []
    },
    {
      "cell_type": "code",
      "metadata": {
        "colab": {
          "base_uri": "https://localhost:8080/",
          "height": 204
        },
        "id": "81E_wKnPh396",
        "outputId": "38053acd-48bd-4502-d87c-0597b8ab6bb3"
      },
      "source": [
        "# Show labels\r\n",
        "df.head()"
      ],
      "execution_count": 5,
      "outputs": [
        {
          "output_type": "execute_result",
          "data": {
            "text/html": [
              "<div>\n",
              "<style scoped>\n",
              "    .dataframe tbody tr th:only-of-type {\n",
              "        vertical-align: middle;\n",
              "    }\n",
              "\n",
              "    .dataframe tbody tr th {\n",
              "        vertical-align: top;\n",
              "    }\n",
              "\n",
              "    .dataframe thead th {\n",
              "        text-align: right;\n",
              "    }\n",
              "</style>\n",
              "<table border=\"1\" class=\"dataframe\">\n",
              "  <thead>\n",
              "    <tr style=\"text-align: right;\">\n",
              "      <th></th>\n",
              "      <th>File</th>\n",
              "      <th>Label</th>\n",
              "    </tr>\n",
              "  </thead>\n",
              "  <tbody>\n",
              "    <tr>\n",
              "      <th>0</th>\n",
              "      <td>COA_8907-1_20180620_200100_part_061.png</td>\n",
              "      <td>Noise</td>\n",
              "    </tr>\n",
              "    <tr>\n",
              "      <th>1</th>\n",
              "      <td>COA_8907-1_20180620_210103_part_172.png</td>\n",
              "      <td>Noise</td>\n",
              "    </tr>\n",
              "    <tr>\n",
              "      <th>2</th>\n",
              "      <td>COA_8907-1_20180620_210103_part_185.png</td>\n",
              "      <td>Noise</td>\n",
              "    </tr>\n",
              "    <tr>\n",
              "      <th>3</th>\n",
              "      <td>COA_8907-1_20180620_210103_part_201.png</td>\n",
              "      <td>Noise</td>\n",
              "    </tr>\n",
              "    <tr>\n",
              "      <th>4</th>\n",
              "      <td>COA_8907-1_20180620_220103_part_117.png</td>\n",
              "      <td>Noise</td>\n",
              "    </tr>\n",
              "  </tbody>\n",
              "</table>\n",
              "</div>"
            ],
            "text/plain": [
              "                                      File  Label\n",
              "0  COA_8907-1_20180620_200100_part_061.png  Noise\n",
              "1  COA_8907-1_20180620_210103_part_172.png  Noise\n",
              "2  COA_8907-1_20180620_210103_part_185.png  Noise\n",
              "3  COA_8907-1_20180620_210103_part_201.png  Noise\n",
              "4  COA_8907-1_20180620_220103_part_117.png  Noise"
            ]
          },
          "metadata": {
            "tags": []
          },
          "execution_count": 5
        }
      ]
    },
    {
      "cell_type": "code",
      "metadata": {
        "id": "wY4xqzsLh398"
      },
      "source": [
        "# Converting each class name label in a column to a list\r\n",
        "df['Label']=df['Label'].apply(lambda x:str(x).split('+')) #.fillna(\"\")"
      ],
      "execution_count": 6,
      "outputs": []
    },
    {
      "cell_type": "code",
      "metadata": {
        "colab": {
          "base_uri": "https://localhost:8080/"
        },
        "id": "xoDVbNqOh399",
        "outputId": "c2c28796-e6d1-4df1-f875-8ca151e14346"
      },
      "source": [
        "print(df['Label'])"
      ],
      "execution_count": 7,
      "outputs": [
        {
          "output_type": "stream",
          "text": [
            "0         [Noise]\n",
            "1         [Noise]\n",
            "2         [Noise]\n",
            "3         [Noise]\n",
            "4         [Noise]\n",
            "           ...   \n",
            "164206    [Noise]\n",
            "164207    [Noise]\n",
            "164208    [Noise]\n",
            "164209    [Noise]\n",
            "164210      [nan]\n",
            "Name: Label, Length: 164211, dtype: object\n"
          ],
          "name": "stdout"
        }
      ]
    },
    {
      "cell_type": "code",
      "metadata": {
        "id": "4QFUdzp8h39-"
      },
      "source": [
        "# Transforming images\n",
        "datagen=ImageDataGenerator(rescale=1./255.)\n",
        "test_datagen=ImageDataGenerator(rescale=1./255.)"
      ],
      "execution_count": 8,
      "outputs": []
    },
    {
      "cell_type": "code",
      "metadata": {
        "id": "O4auWSIhh39_",
        "colab": {
          "base_uri": "https://localhost:8080/"
        },
        "outputId": "0538d2f8-e4d7-46a3-e051-924ce831039a"
      },
      "source": [
        "# Splitting the data for training and defining classes\n",
        "train_generator=datagen.flow_from_dataframe(\n",
        "dataframe=df[:10000],\n",
        "directory='/content/drive/MyDrive/Colab Notebooks/imgs.zip (Unzipped Files)/imgs',\n",
        "x_col='File',\n",
        "y_col='Label',\n",
        "batch_size=32,\n",
        "seed=42,\n",
        "shuffle=True,\n",
        "class_mode='categorical',\n",
        "color_mode='grayscale',\n",
        "classes=['Noise', 'GLGN', 'MEKE', 'AEAC', 'STVA', 'BUVI', 'STOC'],\n",
        "target_size=(129,500))"
      ],
      "execution_count": 9,
      "outputs": [
        {
          "output_type": "stream",
          "text": [
            "Found 9981 validated image filenames belonging to 7 classes.\n"
          ],
          "name": "stdout"
        },
        {
          "output_type": "stream",
          "text": [
            "/usr/local/lib/python3.6/dist-packages/keras_preprocessing/image/dataframe_iterator.py:282: UserWarning: Found 19 invalid image filename(s) in x_col=\"File\". These filename(s) will be ignored.\n",
            "  .format(n_invalid, x_col)\n"
          ],
          "name": "stderr"
        }
      ]
    },
    {
      "cell_type": "code",
      "metadata": {
        "id": "4ki4rGhQh3-B",
        "colab": {
          "base_uri": "https://localhost:8080/"
        },
        "outputId": "6df573ec-3bf6-4c7d-af3f-a11903897195"
      },
      "source": [
        "# Splitting the data for validation and defining classes\n",
        "valid_generator=test_datagen.flow_from_dataframe(\n",
        "dataframe=df[32000:34000],\n",
        "directory='/content/drive/MyDrive/Colab Notebooks/imgs.zip (Unzipped Files)/imgs',\n",
        "x_col='File',\n",
        "y_col='Label',\n",
        "batch_size=32,\n",
        "seed=42,\n",
        "shuffle=True,\n",
        "class_mode='categorical',\n",
        "color_mode='grayscale',\n",
        "classes=['Noise', 'GLGN', 'MEKE', 'AEAC', 'STVA', 'BUVI', 'STOC'],\n",
        "target_size=(129,500))"
      ],
      "execution_count": 10,
      "outputs": [
        {
          "output_type": "stream",
          "text": [
            "Found 2000 validated image filenames belonging to 7 classes.\n"
          ],
          "name": "stdout"
        }
      ]
    },
    {
      "cell_type": "code",
      "metadata": {
        "id": "DNQOff6uh3-D",
        "colab": {
          "base_uri": "https://localhost:8080/"
        },
        "outputId": "b6b22c56-502a-4286-e391-d93b06372e93"
      },
      "source": [
        "# Splitting the data for testing\n",
        "test_generator=test_datagen.flow_from_dataframe(\n",
        "dataframe=df[100000:102000],\n",
        "directory='/content/drive/MyDrive/Colab Notebooks/imgs.zip (Unzipped Files)/imgs',\n",
        "x_col='File',\n",
        "batch_size=1,\n",
        "seed=42,\n",
        "shuffle=False,\n",
        "class_mode=None,\n",
        "color_mode='grayscale',\n",
        "target_size=(129,500))"
      ],
      "execution_count": 11,
      "outputs": [
        {
          "output_type": "stream",
          "text": [
            "Found 2000 validated image filenames.\n"
          ],
          "name": "stdout"
        }
      ]
    },
    {
      "cell_type": "code",
      "metadata": {
        "id": "zpNPk3gZh3-F"
      },
      "source": [
        "# Initialising the model\n",
        "model = Sequential()\n",
        "\n",
        "# Adding the Convolutional layer\n",
        "model.add(Conv2D(32, (3,3), input_shape = (129,500,1), activation=activations.relu))\n",
        "# Adding the Max pooling layer\n",
        "model.add(MaxPooling2D(pool_size=(2,2)))\n",
        "model.add(Dropout(0.2))\n",
        "\n",
        "# Adding the Convolutional layer\n",
        "model.add(Conv2D(32, (3,3), activation=activations.relu))\n",
        "# Adding the Max pooling layer\n",
        "model.add(MaxPooling2D(pool_size=(2,2)))\n",
        "# Implementing dropout\n",
        "model.add(Dropout(0.2))\n",
        "\n",
        "# Adding the Convolutional layer\n",
        "model.add(Conv2D(64, (3,3), activation=activations.relu))\n",
        "# Adding the Max pooling layer\n",
        "model.add(MaxPooling2D(pool_size=(2,2)))\n",
        "# Implementing dropout\n",
        "model.add(Dropout(0.2))\n",
        " \n",
        "# Adding the Convolutional layer\n",
        "model.add(Conv2D(64, (3,3), activation=activations.relu))\n",
        "# Adding the Max pooling layer\n",
        "model.add(MaxPooling2D(pool_size=(2,2)))\n",
        "# Implementing dropout\n",
        "model.add(Dropout(0.2))\n",
        "\n",
        "# Adding the Flattening data \n",
        "model.add(Flatten())\n",
        "\n",
        "# Adding a fully conected layer\n",
        "model.add(Dense(64, activation=activations.relu))\n",
        "# Implementing dropout\n",
        "model.add(Dropout(0.5))\n",
        "\n",
        "# Adding a fully conected layer\n",
        "model.add(Dense(7, activation='softmax', kernel_regularizer=regularizers.l2(0.01)))\n",
        "\n",
        "# Applying an optimizing algorithm\n",
        "adam = keras.optimizers.Adam(lr=0.0001)\n",
        "\n",
        "# Running the model\n",
        "model.compile(optimizer=adam,\n",
        "              loss='categorical_crossentropy',\n",
        "              metrics=['accuracy'])"
      ],
      "execution_count": 14,
      "outputs": []
    },
    {
      "cell_type": "code",
      "metadata": {
        "scrolled": true,
        "id": "SG1X9zZ-h3-H",
        "colab": {
          "base_uri": "https://localhost:8080/"
        },
        "outputId": "501ffed3-0588-40d7-de88-5e6bbd1e7e2f"
      },
      "source": [
        "# Fitting the model\n",
        "STEP_SIZE_TRAIN=train_generator.n//train_generator.batch_size\n",
        "STEP_SIZE_VALID=valid_generator.n//valid_generator.batch_size\n",
        "STEP_SIZE_TEST=test_generator.n//test_generator.batch_size\n",
        "history = model.fit(train_generator,\n",
        "                    steps_per_epoch=STEP_SIZE_TRAIN,\n",
        "                    validation_data=valid_generator,\n",
        "                    validation_steps=STEP_SIZE_VALID,\n",
        "                    epochs=30\n",
        ")"
      ],
      "execution_count": 15,
      "outputs": [
        {
          "output_type": "stream",
          "text": [
            "Epoch 1/30\n",
            "311/311 [==============================] - 4045s 13s/step - loss: 1.3505 - accuracy: 0.5460 - val_loss: 0.7845 - val_accuracy: 0.8286\n",
            "Epoch 2/30\n",
            "311/311 [==============================] - 790s 3s/step - loss: 0.8519 - accuracy: 0.7808 - val_loss: 0.7742 - val_accuracy: 0.8211\n",
            "Epoch 3/30\n",
            "311/311 [==============================] - 790s 3s/step - loss: 0.7916 - accuracy: 0.7790 - val_loss: 0.7518 - val_accuracy: 0.8518\n",
            "Epoch 4/30\n",
            "311/311 [==============================] - 794s 3s/step - loss: 0.7239 - accuracy: 0.7940 - val_loss: 0.6966 - val_accuracy: 0.8523\n",
            "Epoch 5/30\n",
            "311/311 [==============================] - 791s 3s/step - loss: 0.5689 - accuracy: 0.8207 - val_loss: 0.5108 - val_accuracy: 0.9178\n",
            "Epoch 6/30\n",
            "311/311 [==============================] - 791s 3s/step - loss: 0.4380 - accuracy: 0.8760 - val_loss: 0.4716 - val_accuracy: 0.9219\n",
            "Epoch 7/30\n",
            "311/311 [==============================] - 790s 3s/step - loss: 0.3630 - accuracy: 0.9072 - val_loss: 0.4329 - val_accuracy: 0.9269\n",
            "Epoch 8/30\n",
            "311/311 [==============================] - 792s 3s/step - loss: 0.3535 - accuracy: 0.9090 - val_loss: 0.4568 - val_accuracy: 0.9173\n",
            "Epoch 9/30\n",
            "311/311 [==============================] - 790s 3s/step - loss: 0.3140 - accuracy: 0.9221 - val_loss: 0.4535 - val_accuracy: 0.9254\n",
            "Epoch 10/30\n",
            "311/311 [==============================] - 793s 3s/step - loss: 0.2727 - accuracy: 0.9331 - val_loss: 0.4765 - val_accuracy: 0.9163\n",
            "Epoch 11/30\n",
            "311/311 [==============================] - 794s 3s/step - loss: 0.2575 - accuracy: 0.9402 - val_loss: 0.5176 - val_accuracy: 0.9178\n",
            "Epoch 12/30\n",
            "311/311 [==============================] - 791s 3s/step - loss: 0.2556 - accuracy: 0.9404 - val_loss: 0.5006 - val_accuracy: 0.9098\n",
            "Epoch 13/30\n",
            "311/311 [==============================] - 792s 3s/step - loss: 0.2735 - accuracy: 0.9395 - val_loss: 0.6213 - val_accuracy: 0.9103\n",
            "Epoch 14/30\n",
            "311/311 [==============================] - 800s 3s/step - loss: 0.2709 - accuracy: 0.9432 - val_loss: 0.6082 - val_accuracy: 0.9052\n",
            "Epoch 15/30\n",
            "311/311 [==============================] - 794s 3s/step - loss: 0.2746 - accuracy: 0.9438 - val_loss: 0.5939 - val_accuracy: 0.9088\n",
            "Epoch 16/30\n",
            "311/311 [==============================] - 793s 3s/step - loss: 0.3210 - accuracy: 0.9389 - val_loss: 0.9319 - val_accuracy: 0.9083\n",
            "Epoch 17/30\n",
            "311/311 [==============================] - 792s 3s/step - loss: 0.5376 - accuracy: 0.9195 - val_loss: 1.4686 - val_accuracy: 0.9093\n",
            "Epoch 18/30\n",
            "311/311 [==============================] - 793s 3s/step - loss: 0.7034 - accuracy: 0.9026 - val_loss: 0.9970 - val_accuracy: 0.9189\n",
            "Epoch 19/30\n",
            "311/311 [==============================] - 792s 3s/step - loss: 1.0004 - accuracy: 0.8813 - val_loss: 3.7491 - val_accuracy: 0.9103\n",
            "Epoch 20/30\n",
            "311/311 [==============================] - 790s 3s/step - loss: 1.8544 - accuracy: 0.8645 - val_loss: 3.9817 - val_accuracy: 0.9183\n",
            "Epoch 21/30\n",
            "311/311 [==============================] - 792s 3s/step - loss: 1.5666 - accuracy: 0.8604 - val_loss: 3.4372 - val_accuracy: 0.9133\n",
            "Epoch 22/30\n",
            "311/311 [==============================] - 817s 3s/step - loss: 2.1586 - accuracy: 0.8402 - val_loss: 13.4292 - val_accuracy: 0.8659\n",
            "Epoch 23/30\n",
            "311/311 [==============================] - 790s 3s/step - loss: 3.7508 - accuracy: 0.8124 - val_loss: 23.5900 - val_accuracy: 0.8402\n",
            "Epoch 24/30\n",
            "311/311 [==============================] - 796s 3s/step - loss: 5.9952 - accuracy: 0.8108 - val_loss: 34.1586 - val_accuracy: 0.9219\n",
            "Epoch 25/30\n",
            "311/311 [==============================] - 795s 3s/step - loss: 6.3752 - accuracy: 0.8224 - val_loss: 59.6215 - val_accuracy: 0.7848\n",
            "Epoch 26/30\n",
            "311/311 [==============================] - 798s 3s/step - loss: 10.0224 - accuracy: 0.8010 - val_loss: 104.0561 - val_accuracy: 0.9103\n",
            "Epoch 27/30\n",
            "311/311 [==============================] - 792s 3s/step - loss: 18.8793 - accuracy: 0.7997 - val_loss: 141.6292 - val_accuracy: 0.9209\n",
            "Epoch 28/30\n",
            "311/311 [==============================] - 798s 3s/step - loss: 16.7928 - accuracy: 0.7917 - val_loss: 260.2809 - val_accuracy: 0.9178\n",
            "Epoch 29/30\n",
            "311/311 [==============================] - 797s 3s/step - loss: 27.3484 - accuracy: 0.7781 - val_loss: 261.8070 - val_accuracy: 0.9073\n",
            "Epoch 30/30\n",
            "311/311 [==============================] - 785s 3s/step - loss: 24.5732 - accuracy: 0.7770 - val_loss: 469.5997 - val_accuracy: 0.9204\n"
          ],
          "name": "stdout"
        }
      ]
    },
    {
      "cell_type": "code",
      "metadata": {
        "id": "lOVhBK0bh3-L"
      },
      "source": [
        "# Save the model to disk.\n",
        "model.save_weights('owls-cnn7.h5')"
      ],
      "execution_count": 16,
      "outputs": []
    },
    {
      "cell_type": "code",
      "metadata": {
        "id": "RwKs178_h3-M",
        "colab": {
          "base_uri": "https://localhost:8080/"
        },
        "outputId": "ca9ff4c7-820f-43da-ae1a-4e33645d5516"
      },
      "source": [
        "# Resetting the generator\n",
        "test_generator.reset()\n",
        "pred=model.predict(test_generator,\n",
        "steps=STEP_SIZE_TEST,\n",
        "verbose=1)"
      ],
      "execution_count": 17,
      "outputs": [
        {
          "output_type": "stream",
          "text": [
            "2000/2000 [==============================] - 927s 464ms/step\n"
          ],
          "name": "stdout"
        }
      ]
    },
    {
      "cell_type": "code",
      "metadata": {
        "id": "ofyH5IJFh3-O"
      },
      "source": [
        "pred_bool = (pred > 0.5)"
      ],
      "execution_count": 18,
      "outputs": []
    },
    {
      "cell_type": "code",
      "metadata": {
        "id": "A9y34QF2h3-P",
        "colab": {
          "base_uri": "https://localhost:8080/"
        },
        "outputId": "42cacd3f-5834-4b3a-ee76-21db09a115b8"
      },
      "source": [
        "#acting like a test_generator, batch_size should be 1\n",
        "model.evaluate(valid_generator, steps=STEP_SIZE_VALID) \n",
        "\n",
        "predictions=[]\n",
        "labels = train_generator.class_indices\n",
        "labels = dict((v,k) for k,v in labels.items())\n",
        "for row in pred_bool:\n",
        "    l=[]\n",
        "    for index,cls in enumerate(row):\n",
        "        if cls:\n",
        "            l.append(labels[index])\n",
        "    predictions.append(\",\".join(l))\n",
        "filenames=test_generator.filenames\n",
        "results=pd.DataFrame({\"Filename\":filenames,\n",
        "                      \"Predictions\":predictions})\n",
        "results.to_csv(\"results.csv\",index=False)"
      ],
      "execution_count": 21,
      "outputs": [
        {
          "output_type": "stream",
          "text": [
            "62/62 [==============================] - 37s 597ms/step - loss: 469.6106 - accuracy: 0.9204\n"
          ],
          "name": "stdout"
        }
      ]
    },
    {
      "cell_type": "code",
      "metadata": {
        "id": "rjoaqZV0h3-S"
      },
      "source": [
        "df = pd.read_csv('results.csv')"
      ],
      "execution_count": 24,
      "outputs": []
    },
    {
      "cell_type": "code",
      "metadata": {
        "id": "SOwp-cN_h3-U",
        "colab": {
          "base_uri": "https://localhost:8080/"
        },
        "outputId": "5617fe78-2bcd-428e-9575-190d14262817"
      },
      "source": [
        "print(df)"
      ],
      "execution_count": 25,
      "outputs": [
        {
          "output_type": "stream",
          "text": [
            "                                     Filename Predictions\n",
            "0     COA_9580-5_20180514_065002_part_201.png       Noise\n",
            "1     COA_9580-5_20180514_065002_part_216.png       Noise\n",
            "2     COA_9580-5_20180514_065002_part_217.png       Noise\n",
            "3     COA_9580-5_20180514_065002_part_218.png       Noise\n",
            "4     COA_9580-5_20180514_065002_part_219.png       Noise\n",
            "...                                       ...         ...\n",
            "1995  COA_9580-5_20180520_064402_part_069.png       Noise\n",
            "1996  COA_9580-5_20180520_064402_part_082.png       Noise\n",
            "1997  COA_9580-5_20180520_064402_part_087.png       Noise\n",
            "1998  COA_9580-5_20180520_064402_part_088.png       Noise\n",
            "1999  COA_9580-5_20180520_064402_part_100.png       Noise\n",
            "\n",
            "[2000 rows x 2 columns]\n"
          ],
          "name": "stdout"
        }
      ]
    },
    {
      "cell_type": "code",
      "metadata": {
        "id": "fVWhYUzNh3-V",
        "colab": {
          "base_uri": "https://localhost:8080/",
          "height": 308
        },
        "outputId": "c23d8744-3140-42a9-e7fb-23c537eb5e20"
      },
      "source": [
        "f, (ax1, ax2) = plt.subplots(1, 2, figsize=(12, 4))\n",
        "t = f.suptitle('Deep CNN Performance', fontsize=12)\n",
        "f.subplots_adjust(top=0.85, wspace=0.3)\n",
        "\n",
        "epoch_list = list(range(1,31))\n",
        "ax1.plot(epoch_list, history.history['accuracy'], label='Train Accuracy')\n",
        "ax1.plot(epoch_list, history.history['val_accuracy'], label='Validation Accuracy')\n",
        "ax1.set_xticks(np.arange(0, 31, 5))\n",
        "ax1.set_ylabel('Accuracy Value')\n",
        "ax1.set_xlabel('Epoch')\n",
        "ax1.set_title('Accuracy')\n",
        "l1 = ax1.legend(loc=\"best\")\n",
        "\n",
        "ax2.plot(epoch_list, history.history['loss'], label='Train Loss')\n",
        "ax2.plot(epoch_list, history.history['val_loss'], label='Validation Loss')\n",
        "ax2.set_xticks(np.arange(0, 31, 5))\n",
        "ax2.set_ylabel('Loss Value')\n",
        "ax2.set_xlabel('Epoch')\n",
        "ax2.set_title('Loss')\n",
        "l2 = ax2.legend(loc=\"best\")"
      ],
      "execution_count": 23,
      "outputs": [
        {
          "output_type": "display_data",
          "data": {
            "image/png": "[encoded data removed]",
            "text/plain": [
              "<Figure size 864x288 with 2 Axes>"
            ]
          },
          "metadata": {
            "tags": [],
            "needs_background": "light"
          }
        }
      ]
    },
    {
      "cell_type": "code",
      "metadata": {
        "id": "muGsn0UGh3-Z"
      },
      "source": [
        ""
      ],
      "execution_count": null,
      "outputs": []
    }
  ]
}